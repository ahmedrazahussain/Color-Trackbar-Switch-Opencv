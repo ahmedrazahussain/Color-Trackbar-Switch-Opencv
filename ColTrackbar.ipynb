{
 "cells": [
  {
   "cell_type": "code",
   "execution_count": 1,
   "id": "d6822204-b3ee-4495-8e34-5cf21fd3feeb",
   "metadata": {},
   "outputs": [],
   "source": [
    "import cv2 as cv\n",
    "import numpy as np\n",
    "\n",
    "img = np.zeros((300,512,3), np.uint8)\n",
    "\n",
    "cv.namedWindow('Color-Picker')\n",
    "\n",
    "def cross(x):\n",
    "    pass\n",
    "\n",
    "s = '0:Off\\n1:On'\n",
    "cv.createTrackbar(s, 'Color-Picker', 0, 1, cross)\n",
    "\n",
    "cv.createTrackbar('R', 'Color-Picker', 0, 255, cross)\n",
    "cv.createTrackbar('G', 'Color-Picker', 0, 255, cross)\n",
    "cv.createTrackbar('B', 'Color-Picker', 0, 255, cross)\n",
    "\n",
    "while True:\n",
    "    cv.imshow('Color-Picker', img)\n",
    "    s1 = cv.getTrackbarPos(s, 'Color-Picker')\n",
    "    r = cv.getTrackbarPos('R', 'Color-Picker')\n",
    "    g = cv.getTrackbarPos('G', 'Color-Picker')\n",
    "    b = cv.getTrackbarPos('B', 'Color-Picker')\n",
    "\n",
    "    if s1 == 0:\n",
    "        img[:] = 0\n",
    "    else:\n",
    "        img[:] = (b,g,r)\n",
    "\n",
    "    if cv.waitKey(1) & 0xff == ord('z'):\n",
    "        break\n",
    "\n",
    "cv.destroyAllWindows()    "
   ]
  }
 ],
 "metadata": {
  "kernelspec": {
   "display_name": "Python 3 (ipykernel)",
   "language": "python",
   "name": "python3"
  },
  "language_info": {
   "codemirror_mode": {
    "name": "ipython",
    "version": 3
   },
   "file_extension": ".py",
   "mimetype": "text/x-python",
   "name": "python",
   "nbconvert_exporter": "python",
   "pygments_lexer": "ipython3",
   "version": "3.13.2"
  }
 },
 "nbformat": 4,
 "nbformat_minor": 5
}
